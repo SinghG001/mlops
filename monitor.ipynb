{
 "cells": [
  {
   "cell_type": "code",
   "execution_count": null,
   "metadata": {},
   "outputs": [
    {
     "name": "stdout",
     "output_type": "stream",
     "text": [
      "Requirement already satisfied: evidently in /Users/ushasri/workarea/software/anaconda3/envs/mlops/lib/python3.10/site-packages (0.6.0)\n",
      "Requirement already satisfied: plotly>=5.10.0 in /Users/ushasri/workarea/software/anaconda3/envs/mlops/lib/python3.10/site-packages (from evidently) (5.24.1)\n",
      "Requirement already satisfied: statsmodels>=0.12.2 in /Users/ushasri/workarea/software/anaconda3/envs/mlops/lib/python3.10/site-packages (from evidently) (0.14.4)\n",
      "Requirement already satisfied: scikit-learn<1.6.0,>=1.0.1 in /Users/ushasri/workarea/software/anaconda3/envs/mlops/lib/python3.10/site-packages (from evidently) (1.5.0)\n",
      "Requirement already satisfied: pandas>=1.3.5 in /Users/ushasri/workarea/software/anaconda3/envs/mlops/lib/python3.10/site-packages (from pandas[parquet]>=1.3.5->evidently) (2.2.3)\n",
      "Requirement already satisfied: numpy<2.1,>=1.22.0 in /Users/ushasri/workarea/software/anaconda3/envs/mlops/lib/python3.10/site-packages (from evidently) (1.26.4)\n",
      "Requirement already satisfied: nltk>=3.6.7 in /Users/ushasri/workarea/software/anaconda3/envs/mlops/lib/python3.10/site-packages (from evidently) (3.9.1)\n",
      "Requirement already satisfied: scipy>=1.10.0 in /Users/ushasri/workarea/software/anaconda3/envs/mlops/lib/python3.10/site-packages (from evidently) (1.14.1)\n",
      "Requirement already satisfied: requests>=2.32.0 in /Users/ushasri/workarea/software/anaconda3/envs/mlops/lib/python3.10/site-packages (from evidently) (2.32.3)\n",
      "Requirement already satisfied: PyYAML>=5.4 in /Users/ushasri/workarea/software/anaconda3/envs/mlops/lib/python3.10/site-packages (from evidently) (6.0.2)\n",
      "Requirement already satisfied: pydantic>=1.10.13 in /Users/ushasri/workarea/software/anaconda3/envs/mlops/lib/python3.10/site-packages (from evidently) (2.10.4)\n",
      "Requirement already satisfied: litestar>=2.8.3 in /Users/ushasri/workarea/software/anaconda3/envs/mlops/lib/python3.10/site-packages (from evidently) (2.14.0)\n",
      "Requirement already satisfied: typing-inspect>=0.9.0 in /Users/ushasri/workarea/software/anaconda3/envs/mlops/lib/python3.10/site-packages (from evidently) (0.9.0)\n",
      "Requirement already satisfied: uvicorn>=0.22.0 in /Users/ushasri/workarea/software/anaconda3/envs/mlops/lib/python3.10/site-packages (from uvicorn[standard]>=0.22.0->evidently) (0.34.0)\n",
      "Requirement already satisfied: watchdog>=3.0.0 in /Users/ushasri/workarea/software/anaconda3/envs/mlops/lib/python3.10/site-packages (from evidently) (6.0.0)\n",
      "Requirement already satisfied: typer>=0.3 in /Users/ushasri/workarea/software/anaconda3/envs/mlops/lib/python3.10/site-packages (from evidently) (0.15.1)\n",
      "Requirement already satisfied: rich>=13 in /Users/ushasri/workarea/software/anaconda3/envs/mlops/lib/python3.10/site-packages (from evidently) (13.9.4)\n",
      "Requirement already satisfied: iterative-telemetry>=0.0.5 in /Users/ushasri/workarea/software/anaconda3/envs/mlops/lib/python3.10/site-packages (from evidently) (0.0.9)\n",
      "Requirement already satisfied: dynaconf>=3.2.4 in /Users/ushasri/workarea/software/anaconda3/envs/mlops/lib/python3.10/site-packages (from evidently) (3.2.7)\n",
      "Requirement already satisfied: certifi>=2024.7.4 in /Users/ushasri/workarea/software/anaconda3/envs/mlops/lib/python3.10/site-packages (from evidently) (2024.12.14)\n",
      "Requirement already satisfied: urllib3>=1.26.19 in /Users/ushasri/workarea/software/anaconda3/envs/mlops/lib/python3.10/site-packages (from evidently) (2.3.0)\n",
      "Requirement already satisfied: fsspec>=2024.6.1 in /Users/ushasri/workarea/software/anaconda3/envs/mlops/lib/python3.10/site-packages (from evidently) (2024.12.0)\n",
      "Requirement already satisfied: ujson>=5.4.0 in /Users/ushasri/workarea/software/anaconda3/envs/mlops/lib/python3.10/site-packages (from evidently) (5.10.0)\n",
      "Requirement already satisfied: deprecation>=2.1.0 in /Users/ushasri/workarea/software/anaconda3/envs/mlops/lib/python3.10/site-packages (from evidently) (2.1.0)\n",
      "Requirement already satisfied: uuid6>=2024.7.10 in /Users/ushasri/workarea/software/anaconda3/envs/mlops/lib/python3.10/site-packages (from evidently) (2024.7.10)\n",
      "Requirement already satisfied: cryptography>=43.0.1 in /Users/ushasri/workarea/software/anaconda3/envs/mlops/lib/python3.10/site-packages (from evidently) (44.0.0)\n",
      "Requirement already satisfied: cffi>=1.12 in /Users/ushasri/workarea/software/anaconda3/envs/mlops/lib/python3.10/site-packages (from cryptography>=43.0.1->evidently) (1.17.1)\n",
      "Requirement already satisfied: packaging in /Users/ushasri/workarea/software/anaconda3/envs/mlops/lib/python3.10/site-packages (from deprecation>=2.1.0->evidently) (24.2)\n",
      "Requirement already satisfied: appdirs in /Users/ushasri/workarea/software/anaconda3/envs/mlops/lib/python3.10/site-packages (from iterative-telemetry>=0.0.5->evidently) (1.4.4)\n",
      "Requirement already satisfied: filelock in /Users/ushasri/workarea/software/anaconda3/envs/mlops/lib/python3.10/site-packages (from iterative-telemetry>=0.0.5->evidently) (3.16.1)\n",
      "Requirement already satisfied: distro in /Users/ushasri/workarea/software/anaconda3/envs/mlops/lib/python3.10/site-packages (from iterative-telemetry>=0.0.5->evidently) (1.9.0)\n",
      "Requirement already satisfied: anyio>=3 in /Users/ushasri/workarea/software/anaconda3/envs/mlops/lib/python3.10/site-packages (from litestar>=2.8.3->evidently) (4.7.0)\n",
      "Requirement already satisfied: click in /Users/ushasri/workarea/software/anaconda3/envs/mlops/lib/python3.10/site-packages (from litestar>=2.8.3->evidently) (8.1.7)\n",
      "Requirement already satisfied: exceptiongroup in /Users/ushasri/workarea/software/anaconda3/envs/mlops/lib/python3.10/site-packages (from litestar>=2.8.3->evidently) (1.2.2)\n",
      "Requirement already satisfied: httpx>=0.22 in /Users/ushasri/workarea/software/anaconda3/envs/mlops/lib/python3.10/site-packages (from litestar>=2.8.3->evidently) (0.28.1)\n",
      "Requirement already satisfied: litestar-htmx>=0.4.0 in /Users/ushasri/workarea/software/anaconda3/envs/mlops/lib/python3.10/site-packages (from litestar>=2.8.3->evidently) (0.4.1)\n",
      "Requirement already satisfied: msgspec>=0.18.2 in /Users/ushasri/workarea/software/anaconda3/envs/mlops/lib/python3.10/site-packages (from litestar>=2.8.3->evidently) (0.19.0)\n",
      "Requirement already satisfied: multidict>=6.0.2 in /Users/ushasri/workarea/software/anaconda3/envs/mlops/lib/python3.10/site-packages (from litestar>=2.8.3->evidently) (6.1.0)\n",
      "Requirement already satisfied: multipart>=1.2.0 in /Users/ushasri/workarea/software/anaconda3/envs/mlops/lib/python3.10/site-packages (from litestar>=2.8.3->evidently) (1.2.1)\n",
      "Requirement already satisfied: polyfactory>=2.6.3 in /Users/ushasri/workarea/software/anaconda3/envs/mlops/lib/python3.10/site-packages (from litestar>=2.8.3->evidently) (2.18.1)\n",
      "Requirement already satisfied: rich-click in /Users/ushasri/workarea/software/anaconda3/envs/mlops/lib/python3.10/site-packages (from litestar>=2.8.3->evidently) (1.8.5)\n",
      "Requirement already satisfied: typing-extensions in /Users/ushasri/workarea/software/anaconda3/envs/mlops/lib/python3.10/site-packages (from litestar>=2.8.3->evidently) (4.12.2)\n",
      "Requirement already satisfied: joblib in /Users/ushasri/workarea/software/anaconda3/envs/mlops/lib/python3.10/site-packages (from nltk>=3.6.7->evidently) (1.4.2)\n",
      "Requirement already satisfied: regex>=2021.8.3 in /Users/ushasri/workarea/software/anaconda3/envs/mlops/lib/python3.10/site-packages (from nltk>=3.6.7->evidently) (2024.11.6)\n",
      "Requirement already satisfied: tqdm in /Users/ushasri/workarea/software/anaconda3/envs/mlops/lib/python3.10/site-packages (from nltk>=3.6.7->evidently) (4.67.1)\n",
      "Requirement already satisfied: python-dateutil>=2.8.2 in /Users/ushasri/workarea/software/anaconda3/envs/mlops/lib/python3.10/site-packages (from pandas>=1.3.5->pandas[parquet]>=1.3.5->evidently) (2.9.0.post0)\n",
      "Requirement already satisfied: pytz>=2020.1 in /Users/ushasri/workarea/software/anaconda3/envs/mlops/lib/python3.10/site-packages (from pandas>=1.3.5->pandas[parquet]>=1.3.5->evidently) (2024.2)\n",
      "Requirement already satisfied: tzdata>=2022.7 in /Users/ushasri/workarea/software/anaconda3/envs/mlops/lib/python3.10/site-packages (from pandas>=1.3.5->pandas[parquet]>=1.3.5->evidently) (2024.2)\n",
      "Requirement already satisfied: pyarrow>=10.0.1 in /Users/ushasri/workarea/software/anaconda3/envs/mlops/lib/python3.10/site-packages (from pandas[parquet]>=1.3.5->evidently) (18.1.0)\n",
      "Requirement already satisfied: tenacity>=6.2.0 in /Users/ushasri/workarea/software/anaconda3/envs/mlops/lib/python3.10/site-packages (from plotly>=5.10.0->evidently) (9.0.0)\n",
      "Requirement already satisfied: annotated-types>=0.6.0 in /Users/ushasri/workarea/software/anaconda3/envs/mlops/lib/python3.10/site-packages (from pydantic>=1.10.13->evidently) (0.7.0)\n",
      "Requirement already satisfied: pydantic-core==2.27.2 in /Users/ushasri/workarea/software/anaconda3/envs/mlops/lib/python3.10/site-packages (from pydantic>=1.10.13->evidently) (2.27.2)\n",
      "Requirement already satisfied: charset-normalizer<4,>=2 in /Users/ushasri/workarea/software/anaconda3/envs/mlops/lib/python3.10/site-packages (from requests>=2.32.0->evidently) (3.4.1)\n",
      "Requirement already satisfied: idna<4,>=2.5 in /Users/ushasri/workarea/software/anaconda3/envs/mlops/lib/python3.10/site-packages (from requests>=2.32.0->evidently) (3.10)\n",
      "Requirement already satisfied: markdown-it-py>=2.2.0 in /Users/ushasri/workarea/software/anaconda3/envs/mlops/lib/python3.10/site-packages (from rich>=13->evidently) (3.0.0)\n",
      "Requirement already satisfied: pygments<3.0.0,>=2.13.0 in /Users/ushasri/workarea/software/anaconda3/envs/mlops/lib/python3.10/site-packages (from rich>=13->evidently) (2.18.0)\n",
      "Requirement already satisfied: threadpoolctl>=3.1.0 in /Users/ushasri/workarea/software/anaconda3/envs/mlops/lib/python3.10/site-packages (from scikit-learn<1.6.0,>=1.0.1->evidently) (3.5.0)\n",
      "Requirement already satisfied: patsy>=0.5.6 in /Users/ushasri/workarea/software/anaconda3/envs/mlops/lib/python3.10/site-packages (from statsmodels>=0.12.2->evidently) (1.0.1)\n",
      "Requirement already satisfied: shellingham>=1.3.0 in /Users/ushasri/workarea/software/anaconda3/envs/mlops/lib/python3.10/site-packages (from typer>=0.3->evidently) (1.5.4)\n",
      "Requirement already satisfied: mypy-extensions>=0.3.0 in /Users/ushasri/workarea/software/anaconda3/envs/mlops/lib/python3.10/site-packages (from typing-inspect>=0.9.0->evidently) (1.0.0)\n",
      "Requirement already satisfied: h11>=0.8 in /Users/ushasri/workarea/software/anaconda3/envs/mlops/lib/python3.10/site-packages (from uvicorn>=0.22.0->uvicorn[standard]>=0.22.0->evidently) (0.14.0)\n",
      "Requirement already satisfied: httptools>=0.6.3 in /Users/ushasri/workarea/software/anaconda3/envs/mlops/lib/python3.10/site-packages (from uvicorn[standard]>=0.22.0->evidently) (0.6.4)\n",
      "Requirement already satisfied: python-dotenv>=0.13 in /Users/ushasri/workarea/software/anaconda3/envs/mlops/lib/python3.10/site-packages (from uvicorn[standard]>=0.22.0->evidently) (1.0.1)\n",
      "Requirement already satisfied: uvloop!=0.15.0,!=0.15.1,>=0.14.0 in /Users/ushasri/workarea/software/anaconda3/envs/mlops/lib/python3.10/site-packages (from uvicorn[standard]>=0.22.0->evidently) (0.21.0)\n",
      "Requirement already satisfied: watchfiles>=0.13 in /Users/ushasri/workarea/software/anaconda3/envs/mlops/lib/python3.10/site-packages (from uvicorn[standard]>=0.22.0->evidently) (1.0.4)\n",
      "Requirement already satisfied: websockets>=10.4 in /Users/ushasri/workarea/software/anaconda3/envs/mlops/lib/python3.10/site-packages (from uvicorn[standard]>=0.22.0->evidently) (14.1)\n",
      "Requirement already satisfied: sniffio>=1.1 in /Users/ushasri/workarea/software/anaconda3/envs/mlops/lib/python3.10/site-packages (from anyio>=3->litestar>=2.8.3->evidently) (1.3.1)\n",
      "Requirement already satisfied: pycparser in /Users/ushasri/workarea/software/anaconda3/envs/mlops/lib/python3.10/site-packages (from cffi>=1.12->cryptography>=43.0.1->evidently) (2.22)\n",
      "Requirement already satisfied: httpcore==1.* in /Users/ushasri/workarea/software/anaconda3/envs/mlops/lib/python3.10/site-packages (from httpx>=0.22->litestar>=2.8.3->evidently) (1.0.7)\n",
      "Requirement already satisfied: mdurl~=0.1 in /Users/ushasri/workarea/software/anaconda3/envs/mlops/lib/python3.10/site-packages (from markdown-it-py>=2.2.0->rich>=13->evidently) (0.1.2)\n",
      "Requirement already satisfied: faker in /Users/ushasri/workarea/software/anaconda3/envs/mlops/lib/python3.10/site-packages (from polyfactory>=2.6.3->litestar>=2.8.3->evidently) (35.0.0)\n",
      "Requirement already satisfied: six>=1.5 in /Users/ushasri/workarea/software/anaconda3/envs/mlops/lib/python3.10/site-packages (from python-dateutil>=2.8.2->pandas>=1.3.5->pandas[parquet]>=1.3.5->evidently) (1.17.0)\n"
     ]
    }
   ],
   "source": [
    "#!pip install evidently #@ git+https://github.com/evidentlyai/evidently.git"
   ]
  },
  {
   "cell_type": "code",
   "execution_count": 2,
   "metadata": {},
   "outputs": [],
   "source": [
    "import joblib\n",
    "import pandas as pd\n",
    "from src.clean import Cleaner\n",
    "from evidently.report import Report\n",
    "from evidently.metric_preset import DataDriftPreset, DataQualityPreset, TargetDriftPreset\n",
    "from evidently import ColumnMapping\n",
    "import warnings\n",
    "warnings.filterwarnings(\"ignore\")"
   ]
  },
  {
   "cell_type": "code",
   "execution_count": 4,
   "metadata": {},
   "outputs": [],
   "source": [
    "# import from models/\n",
    "model = joblib.load('models/model.pkl')"
   ]
  },
  {
   "cell_type": "code",
   "execution_count": 5,
   "metadata": {},
   "outputs": [],
   "source": [
    "# Loading data\n",
    "reference = pd.read_csv(\"data/train.csv\")\n",
    "current = pd.read_csv(\"data/test.csv\")\n",
    "production = pd.read_csv(\"data/production.csv\")"
   ]
  },
  {
   "cell_type": "code",
   "execution_count": 6,
   "metadata": {},
   "outputs": [],
   "source": [
    "# Clean data\n",
    "cleaner = Cleaner()\n",
    "reference = cleaner.clean_data(reference)\n",
    "reference['prediction'] = model.predict(reference.iloc[:, :-1])\n",
    "\n",
    "current = cleaner.clean_data(current)\n",
    "current['prediction'] = model.predict(current.iloc[:, :-1])\n",
    "\n",
    "production = cleaner.clean_data(production)\n",
    "production['prediction'] = model.predict(production.iloc[:, :-1])"
   ]
  },
  {
   "cell_type": "code",
   "execution_count": 7,
   "metadata": {},
   "outputs": [],
   "source": [
    "# Apply column mapping\n",
    "target = 'Result'\n",
    "prediction = 'prediction'\n",
    "numerical_features = ['Age', 'AnnualPremium', 'HasDrivingLicense', 'RegionID', 'Switch']\n",
    "categorical_features = ['Gender','PastAccident']\n",
    "column_mapping = ColumnMapping()\n",
    "\n",
    "column_mapping.target = target\n",
    "column_mapping.prediction = prediction\n",
    "column_mapping.numerical_features = numerical_features\n",
    "column_mapping.categorical_features = categorical_features"
   ]
  },
  {
   "cell_type": "code",
   "execution_count": 13,
   "metadata": {},
   "outputs": [],
   "source": [
    "# Data drift detaction part\n",
    "data_drift_report = Report(metrics=[\n",
    "    DataDriftPreset(),\n",
    "    DataQualityPreset(),\n",
    "    TargetDriftPreset()\n",
    "])\n",
    "data_drift_report.run(reference_data=reference, current_data=current, column_mapping=column_mapping)\n",
    "data_drift_report\n",
    "# data_drift_report.json()\n",
    "data_drift_report.save_html(\"monitor_model_drift_group69.html\")"
   ]
  },
  {
   "cell_type": "markdown",
   "metadata": {},
   "source": [
    "<img src=\"css\\monitor.jpg\" alt=\"DVC Pull\" style=\"width:auto;height:auto;\">"
   ]
  }
 ],
 "metadata": {
  "kernelspec": {
   "display_name": "mlops",
   "language": "python",
   "name": "python3"
  },
  "language_info": {
   "codemirror_mode": {
    "name": "ipython",
    "version": 3
   },
   "file_extension": ".py",
   "mimetype": "text/x-python",
   "name": "python",
   "nbconvert_exporter": "python",
   "pygments_lexer": "ipython3",
   "version": "3.10.16"
  }
 },
 "nbformat": 4,
 "nbformat_minor": 2
}
